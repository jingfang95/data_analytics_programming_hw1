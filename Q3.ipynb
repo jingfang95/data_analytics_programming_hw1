{
 "cells": [
  {
   "cell_type": "markdown",
   "metadata": {},
   "source": [
    "Near-duplicate detection"
   ]
  },
  {
   "cell_type": "code",
   "execution_count": 1,
   "metadata": {},
   "outputs": [],
   "source": [
    "import math"
   ]
  },
  {
   "cell_type": "code",
   "execution_count": 2,
   "metadata": {},
   "outputs": [],
   "source": [
    "# get a dictionary contains all the unique 3-word phrases in a tweet\n",
    "def moving_window(tweet):\n",
    "    tweet_dict = {}\n",
    "    words = tweet.split(' ')\n",
    "    if len(words) >= 3:\n",
    "        for i in range(len(words) - 2):\n",
    "            phrase = words[i] + ' ' + words[i + 1] + ' ' + words[i + 2]\n",
    "            if phrase not in tweet_dict.keys():\n",
    "                tweet_dict[phrase] = 1\n",
    "    return tweet_dict"
   ]
  },
  {
   "cell_type": "code",
   "execution_count": 3,
   "metadata": {},
   "outputs": [],
   "source": [
    "# calculate similarity between two tweets\n",
    "def cosine(dict1, dict2):\n",
    "    matches = 0\n",
    "    for phrase in dict1:\n",
    "        if phrase in dict2.keys():\n",
    "            matches += 1\n",
    "    return matches / math.sqrt(len(dict1) * len(dict2))"
   ]
  },
  {
   "cell_type": "code",
   "execution_count": 4,
   "metadata": {},
   "outputs": [],
   "source": [
    "# read in tweets, and output near-duplicates\n",
    "def main():\n",
    "    dicts = []\n",
    "    fp = open('Santa.txt', 'r')\n",
    "    line = fp.readline()\n",
    "    while line is not '':\n",
    "        line = line.strip()\n",
    "        line = line.lstrip('\"').rstrip('\"')  # not sure if quotations need to be removed or not?\n",
    "        new_dict = moving_window(line)\n",
    "        \n",
    "        # iterating through previously-seen tweets\n",
    "        for index, d in enumerate(dicts):\n",
    "            result = cosine(d, new_dict)\n",
    "            print('Cosine similarity: ' + str(result))\n",
    "            if result > 0.5:\n",
    "                print('Tweet ' + str(index + 1) + ' and ' + str(len(dicts) + 1) + ' are near-duplicates.\\n')\n",
    "            else:\n",
    "                print('Tweet ' + str(index + 1) + ' and ' + str(len(dicts) + 1) + ' are not near-duplicates.\\n')\n",
    "        dicts.append(new_dict)\n",
    "        line = fp.readline()\n",
    "    fp.close()"
   ]
  },
  {
   "cell_type": "code",
   "execution_count": 5,
   "metadata": {},
   "outputs": [
    {
     "name": "stdout",
     "output_type": "stream",
     "text": [
      "Cosine similarity: 0.0\n",
      "Tweet 1 and 2 are not near-duplicates.\n",
      "\n",
      "Cosine similarity: 0.8838834764831844\n",
      "Tweet 1 and 3 are near-duplicates.\n",
      "\n",
      "Cosine similarity: 0.0\n",
      "Tweet 2 and 3 are not near-duplicates.\n",
      "\n",
      "Cosine similarity: 0.0\n",
      "Tweet 1 and 4 are not near-duplicates.\n",
      "\n",
      "Cosine similarity: 0.7337993857053429\n",
      "Tweet 2 and 4 are near-duplicates.\n",
      "\n",
      "Cosine similarity: 0.0\n",
      "Tweet 3 and 4 are not near-duplicates.\n",
      "\n",
      "Cosine similarity: 0.0\n",
      "Tweet 1 and 5 are not near-duplicates.\n",
      "\n",
      "Cosine similarity: 0.7977240352174656\n",
      "Tweet 2 and 5 are near-duplicates.\n",
      "\n",
      "Cosine similarity: 0.0\n",
      "Tweet 3 and 5 are not near-duplicates.\n",
      "\n",
      "Cosine similarity: 0.9198662110077999\n",
      "Tweet 4 and 5 are near-duplicates.\n",
      "\n"
     ]
    }
   ],
   "source": [
    "main()"
   ]
  },
  {
   "cell_type": "code",
   "execution_count": null,
   "metadata": {},
   "outputs": [],
   "source": []
  }
 ],
 "metadata": {
  "kernelspec": {
   "display_name": "Python 3",
   "language": "python",
   "name": "python3"
  },
  "language_info": {
   "codemirror_mode": {
    "name": "ipython",
    "version": 3
   },
   "file_extension": ".py",
   "mimetype": "text/x-python",
   "name": "python",
   "nbconvert_exporter": "python",
   "pygments_lexer": "ipython3",
   "version": "3.7.3"
  }
 },
 "nbformat": 4,
 "nbformat_minor": 2
}
