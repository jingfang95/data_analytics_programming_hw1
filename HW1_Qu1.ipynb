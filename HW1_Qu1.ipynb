{
 "cells": [
  {
   "cell_type": "code",
   "execution_count": 2,
   "metadata": {},
   "outputs": [],
   "source": [
    "def h_choices_counter():\n",
    "\n",
    "    if human_choice == 'Rock':\n",
    "        human_choices['Rock'] +=1\n",
    "\n",
    "    elif human_choice == 'Paper':\n",
    "        human_choices['Paper'] += 1\n",
    "    \n",
    "    else: \n",
    "        human_choices['Scissors'] += 1\n"
   ]
  },
  {
   "cell_type": "code",
   "execution_count": 1,
   "metadata": {},
   "outputs": [],
   "source": [
    "def computer_brain():\n",
    "\n",
    "    inverted_beats = {value: key for key, value in beats.items()}\n",
    "        \n",
    "    key_max = max(human_choices.keys(),key=(lambda k: human_choices[k]))\n",
    "    \n",
    "    computer_choice = inverted_beats[key_max]\n",
    "    \n",
    "    return computer_choice\n",
    "    \n",
    "    \n",
    "    "
   ]
  },
  {
   "cell_type": "code",
   "execution_count": 3,
   "metadata": {},
   "outputs": [
    {
     "name": "stdout",
     "output_type": "stream",
     "text": [
      "To play choose between: Rock, Paper and Scissors or you can choose to quit: Rock\n",
      "You win!\n",
      "To play choose between: Rock, Paper and Scissors or you can choose to quit: Paper\n",
      "You lose!\n",
      "To play choose between: Rock, Paper and Scissors or you can choose to quit: Paper\n",
      "You lose!\n",
      "To play choose between: Rock, Paper and Scissors or you can choose to quit: Rock\n",
      "You win!\n",
      "To play choose between: Rock, Paper and Scissors or you can choose to quit: quit\n",
      "You won 2 games out of 4\n",
      "Have a good day!\n"
     ]
    }
   ],
   "source": [
    "import random\n",
    "\n",
    "\n",
    "\n",
    "choices = ['Rock','Paper','Scissors']\n",
    "\n",
    "beats = {'Rock': 'Scissors', 'Scissors': 'Paper', 'Paper': 'Rock'}\n",
    "\n",
    "human_stats = {'games_played':0, 'wins': 0}\n",
    "\n",
    "computer_choice = random.choice(choices)\n",
    "\n",
    "human_choices={'Rock':0, 'Paper':0,'Scissors':0}\n",
    "\n",
    "human_choice = input('To play choose between: Rock, Paper and Scissors or you can choose to quit: ')\n",
    "\n",
    "\n",
    "def Human_turn(human_choice,choices,computer_choice,beats,human_choices):\n",
    "    \n",
    "        while True:\n",
    "\n",
    "            if human_choice in choices:\n",
    "                \n",
    "                human_choices[human_choice] +=1\n",
    "                human_stats['games_played'] +=1\n",
    "                \n",
    "                if human_choice == computer_choice:\n",
    "                    print(\"It's a tie!\")\n",
    "                    computer_brain()\n",
    "                    human_choice = input('To play choose between: Rock, Paper and Scissors or you can choose to quit: ')\n",
    "                    \n",
    "                elif beats[human_choice] == computer_choice:\n",
    "                    print(\"You win!\")\n",
    "                    human_stats['wins'] += 1\n",
    "                    computer_brain()\n",
    "                    human_choice = input('To play choose between: Rock, Paper and Scissors or you can choose to quit: ')\n",
    "                    \n",
    "                else:\n",
    "                    print(\"You lose!\")\n",
    "                    computer_brain()\n",
    "                    human_choice = input('To play choose between: Rock, Paper and Scissors or you can choose to quit: ')\n",
    "                    \n",
    "            else:\n",
    "                if human_choice == 'quit':\n",
    "                    print(\"You won\", human_stats['wins'],\"games out of\",human_stats['games_played'])\n",
    "                    print(\"Have a good day!\")\n",
    "                    break\n",
    "                            \n",
    "                else:\n",
    "                    print(\"Enter a valid choice\")\n",
    "                    human_choice = input('To play choose between: Rock, Paper and Scissors or you can choose to quit: ')\n",
    "\n",
    "Human_turn(human_choice,choices,computer_choice,beats,human_choices)"
   ]
  },
  {
   "cell_type": "code",
   "execution_count": null,
   "metadata": {},
   "outputs": [],
   "source": [
    "\n"
   ]
  }
 ],
 "metadata": {
  "kernelspec": {
   "display_name": "Python 3",
   "language": "python",
   "name": "python3"
  },
  "language_info": {
   "codemirror_mode": {
    "name": "ipython",
    "version": 3
   },
   "file_extension": ".py",
   "mimetype": "text/x-python",
   "name": "python",
   "nbconvert_exporter": "python",
   "pygments_lexer": "ipython3",
   "version": "3.7.4"
  }
 },
 "nbformat": 4,
 "nbformat_minor": 2
}
