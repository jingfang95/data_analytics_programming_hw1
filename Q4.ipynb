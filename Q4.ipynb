{
 "cells": [
  {
   "cell_type": "markdown",
   "metadata": {},
   "source": [
    "The Google of Quotes"
   ]
  },
  {
   "cell_type": "code",
   "execution_count": 1,
   "metadata": {},
   "outputs": [],
   "source": [
    "import re\n",
    "import math"
   ]
  },
  {
   "cell_type": "code",
   "execution_count": 2,
   "metadata": {},
   "outputs": [],
   "source": [
    "quotes = []"
   ]
  },
  {
   "cell_type": "code",
   "execution_count": 3,
   "metadata": {},
   "outputs": [],
   "source": [
    "# build a list of full quotes\n",
    "def get_full_quotes():\n",
    "    quote = ''\n",
    "    speaker = ''\n",
    "    count = 0\n",
    "    fp = open('quotes.txt', 'r', encoding='ISO-8859-1')\n",
    "    line = fp.readline()\n",
    "    while line is not '':\n",
    "        line = line.strip()\n",
    "        if count % 2 == 0:\n",
    "            quote = line\n",
    "        else:\n",
    "            speaker = line\n",
    "            quotes.append(quote + ' - ' + speaker)\n",
    "        line = fp.readline()\n",
    "        count += 1\n",
    "    fp.close()"
   ]
  },
  {
   "cell_type": "code",
   "execution_count": 4,
   "metadata": {},
   "outputs": [],
   "source": [
    "# get a list of the words in a full quote\n",
    "def get_word_list(s):\n",
    "    word_list = re.split(r'[^a-z0-9_]+', s.lower())\n",
    "    return word_list"
   ]
  },
  {
   "cell_type": "code",
   "execution_count": 5,
   "metadata": {},
   "outputs": [],
   "source": [
    "# build a postings-list dictionary\n",
    "def get_postings_list(qs):\n",
    "    postings_list = {}\n",
    "    for q in qs:\n",
    "        postings_dict = {}\n",
    "        words = get_word_list(q)\n",
    "        for word in words:\n",
    "            if word in postings_dict.keys():\n",
    "                postings_dict[word] += 1\n",
    "            else:\n",
    "                postings_dict[word] = 1\n",
    "        postings_list[q] = postings_dict\n",
    "    return postings_list"
   ]
  },
  {
   "cell_type": "code",
   "execution_count": 6,
   "metadata": {},
   "outputs": [],
   "source": [
    "# build a reverse postings-list dictionary\n",
    "def get_reverse_postings_list(ws):\n",
    "    reverse_postings_list = {}\n",
    "    for w in ws:\n",
    "        quote_dict = {}\n",
    "        postings_list = get_postings_list(quotes)\n",
    "        for q in postings_list.keys():\n",
    "            postings = postings_list[q]\n",
    "            if w in postings.keys():\n",
    "                if q in quote_dict.keys():\n",
    "                    quote_dict[q] += 1\n",
    "                else:\n",
    "                    quote_dict[q] = 1\n",
    "        reverse_postings_list[w] = quote_dict\n",
    "    return reverse_postings_list"
   ]
  },
  {
   "cell_type": "code",
   "execution_count": 7,
   "metadata": {},
   "outputs": [],
   "source": [
    "# compute the TF-IDF of a word in a full quote\n",
    "def tf_idf(w, q):\n",
    "    w_times = 0\n",
    "    q_times = 0\n",
    "    maximum = 0\n",
    "    tf = 0\n",
    "    idf = 0\n",
    "    total = len(quotes)\n",
    "    postings = get_postings_list([q])[q]\n",
    "    reverse_postings = get_reverse_postings_list([w])[w]\n",
    "    if w in postings.keys():\n",
    "        w_times = postings[w]\n",
    "    for p in postings.keys():\n",
    "        if postings[p] > maximum:\n",
    "            maximum = postings[p]\n",
    "    if maximum != 0:\n",
    "        tf = 1.0 * w_times / maximum\n",
    "    for q in reverse_postings.keys():\n",
    "        q_times += reverse_postings[q]\n",
    "    if q_times != 0:\n",
    "        idf = math.log(1.0 * total / q_times)\n",
    "    return tf * idf"
   ]
  },
  {
   "cell_type": "code",
   "execution_count": 8,
   "metadata": {},
   "outputs": [],
   "source": [
    "# input: a word\n",
    "# output: a dictionary - keys are full quotes containing that word\n",
    "#                      - values are the TF-IDF score of that word for that full quote\n",
    "def single_quote_search(w):\n",
    "    quote_dict = {}\n",
    "    for q in quotes:\n",
    "        word_list = get_word_list(q)\n",
    "        if w in word_list:\n",
    "            quote_dict[q] = tf_idf(w, q)\n",
    "    return quote_dict"
   ]
  },
  {
   "cell_type": "code",
   "execution_count": 9,
   "metadata": {},
   "outputs": [],
   "source": [
    "# input: a list of words\n",
    "# output: a dictionary - keys are full quotes containing one or more of the words in that list\n",
    "#                      - values are the sum of TF-IDF scores of the words in that list for that full quote\n",
    "def multiple_quote_search(ws):\n",
    "    multiple_quote_dict = {}\n",
    "    for w in ws:\n",
    "        quote_dict = single_quote_search(w)\n",
    "        for q in quote_dict.keys():\n",
    "            if q in multiple_quote_dict.keys():\n",
    "                multiple_quote_dict[q] += quote_dict[q]\n",
    "            else:\n",
    "                multiple_quote_dict[q] = quote_dict[q]\n",
    "    return multiple_quote_dict"
   ]
  },
  {
   "cell_type": "code",
   "execution_count": 10,
   "metadata": {},
   "outputs": [],
   "source": [
    "def main():\n",
    "    get_full_quotes()"
   ]
  },
  {
   "cell_type": "code",
   "execution_count": 11,
   "metadata": {},
   "outputs": [],
   "source": [
    "main()"
   ]
  },
  {
   "cell_type": "code",
   "execution_count": 12,
   "metadata": {},
   "outputs": [
    {
     "name": "stdout",
     "output_type": "stream",
     "text": [
      "Get a list of the words in a full quote\n",
      "\"How we spend our days is, of course, how we spend our lives. - Annie Dillard\": \n",
      "['how', 'we', 'spend', 'our', 'days', 'is', 'of', 'course', 'how', 'we', 'spend', 'our', 'lives', 'annie', 'dillard']\n",
      "\n",
      "Build a postings-list dictionary for the first two quotes: \n",
      "{'How we spend our days is, of course, how we spend our lives. - Annie Dillard': {'how': 2, 'we': 2, 'spend': 2, 'our': 2, 'days': 1, 'is': 1, 'of': 1, 'course': 1, 'lives': 1, 'annie': 1, 'dillard': 1}, 'Two roads diverged in a wood, and I...I took the one less traveled by, and that has made all the difference. - Robert Frost': {'two': 1, 'roads': 1, 'diverged': 1, 'in': 1, 'a': 1, 'wood': 1, 'and': 2, 'i': 2, 'took': 1, 'the': 2, 'one': 1, 'less': 1, 'traveled': 1, 'by': 1, 'that': 1, 'has': 1, 'made': 1, 'all': 1, 'difference': 1, 'robert': 1, 'frost': 1}}\n",
      "\n",
      "Build a reverse postings-list dictionary for a list ['entertainer']: \n",
      "{'entertainer': {'An actor is at most a poet and at least an entertainer. - Marlon Brando': 1}}\n",
      "\n",
      "TF-IDF of a word 'entertainer' in the Marlon Brando quote: \n",
      "3.3933584753025405\n",
      "\n",
      "Quote search using a single word 'entertainer': \n",
      "{'An actor is at most a poet and at least an entertainer. - Marlon Brando': 3.3933584753025405}\n",
      "\n",
      "Quote search using multiple words 'entertainer' and 'foundation': \n",
      "{'An actor is at most a poet and at least an entertainer. - Marlon Brando': 3.3933584753025405, 'Humility is the foundation of all the other virtues hence, in the soul in which this virtue does not exist there cannot be any other virtue except in mere appearance. - Saint Augustine': 1.8960348873123236, 'Alexander, Caesar, Charlemagne, and myself founded empires; but what foundation did we rest the creations of our genius? Upon force. Jesus Christ founded an empire upon love; and at this hour millions of men would die for Him. - Napoleon Bonaparte': 2.8440523309684855, 'If the United Nations once admits that international disputes can be settled by using force, then we will have destroyed the foundation of the organization and our best hope of establishing a world order. - Dwight Eisenhower': 1.8960348873123236}\n"
     ]
    }
   ],
   "source": [
    "# sample case\n",
    "print('Get a list of the words in a full quote\\n\"' + quotes[0] + '\": ')\n",
    "print(get_word_list(quotes[0]))\n",
    "print('\\nBuild a postings-list dictionary for the first two quotes: ')\n",
    "print(get_postings_list(quotes[0:2]))\n",
    "print('\\nBuild a reverse postings-list dictionary for a list [\\'entertainer\\']: ')\n",
    "print(get_reverse_postings_list(['entertainer']))\n",
    "print('\\nTF-IDF of a word \\'entertainer\\' in the Marlon Brando quote: ')\n",
    "print(tf_idf('entertainer', 'An actor is at most a poet and at least an entertainer. - Marlon Brando'))\n",
    "print('\\nQuote search using a single word \\'entertainer\\': ')\n",
    "print(single_quote_search('entertainer'))\n",
    "print('\\nQuote search using multiple words \\'entertainer\\' and \\'foundation\\': ')\n",
    "print(multiple_quote_search(['entertainer', 'foundation']))"
   ]
  },
  {
   "cell_type": "code",
   "execution_count": null,
   "metadata": {},
   "outputs": [],
   "source": []
  }
 ],
 "metadata": {
  "kernelspec": {
   "display_name": "Python 3",
   "language": "python",
   "name": "python3"
  },
  "language_info": {
   "codemirror_mode": {
    "name": "ipython",
    "version": 3
   },
   "file_extension": ".py",
   "mimetype": "text/x-python",
   "name": "python",
   "nbconvert_exporter": "python",
   "pygments_lexer": "ipython3",
   "version": "3.7.3"
  }
 },
 "nbformat": 4,
 "nbformat_minor": 2
}
