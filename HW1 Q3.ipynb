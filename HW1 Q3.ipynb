{
 "cells": [
  {
   "cell_type": "code",
   "execution_count": 6,
   "metadata": {
    "scrolled": false
   },
   "outputs": [
    {
     "name": "stdout",
     "output_type": "stream",
     "text": [
      "\n",
      "Similarity between line 1 line 2 is: 0.0\n",
      "\n",
      "Similarity between line 1 line 3 is: 0.88\n",
      "tweet line 1 and tweet line 3 are near-duplicates.\n",
      "\n",
      "Similarity between line 1 line 4 is: 0.0\n",
      "\n",
      "Similarity between line 1 line 5 is: 0.0\n",
      "\n",
      "Similarity between line 2 line 3 is: 0.0\n",
      "\n",
      "Similarity between line 2 line 4 is: 0.73\n",
      "tweet line 2 and tweet line 4 are near-duplicates.\n",
      "\n",
      "Similarity between line 2 line 5 is: 0.8\n",
      "tweet line 2 and tweet line 5 are near-duplicates.\n",
      "\n",
      "Similarity between line 3 line 4 is: 0.0\n",
      "\n",
      "Similarity between line 3 line 5 is: 0.0\n",
      "\n",
      "Similarity between line 4 line 5 is: 0.92\n",
      "tweet line 4 and tweet line 5 are near-duplicates.\n"
     ]
    }
   ],
   "source": [
    "import math\n",
    "def moving_window(text):\n",
    "    words = text.split();\n",
    "    count = 0;\n",
    "    phrase = [];\n",
    "    dictionary = {};\n",
    "\n",
    "    while count < (len(words) - 2):\n",
    "        phrase.append(words[count] + ' ' + words[count + 1] + ' ' + words[count + 2])\n",
    "        dictionary.update({phrase[count] : 1})\n",
    "        count += 1;\n",
    "    \n",
    "    return dictionary\n",
    "\n",
    "def cosine(dic1, dic2):\n",
    "    count = 0;\n",
    "    m = len(dic1);\n",
    "    n = len(dic2);\n",
    "    \n",
    "    for key in dic1.keys():\n",
    "        if key in dic2.keys():\n",
    "            count += 1;\n",
    "    \n",
    "    result = (count/math.sqrt(m*n))\n",
    "    \n",
    "    return round(result,2);\n",
    "    \n",
    "def main():\n",
    "    count1 = 0;\n",
    "    count2 = 1;\n",
    "    similarity = 0;\n",
    "    fp = open('Santa.txt', 'r');\n",
    "    line = fp.readline().rstrip('\\n').rstrip('\"').lstrip('\"');\n",
    "    phrases = [];\n",
    "    \n",
    "    while line != '':\n",
    "        words = moving_window(line);\n",
    "        phrases.append(words);\n",
    "        line = fp.readline().rstrip('\\n').rstrip('\"').lstrip('\"');\n",
    "        \n",
    "    max = len(phrases)\n",
    "        \n",
    "    while count1 < max:\n",
    "        while count2 < max:            \n",
    "            similarity = cosine(phrases[count1], phrases[count2]);\n",
    "            print()\n",
    "            print(\"Similarity between line \" + str(count1 + 1) + \" line \" + str(count2 + 1) + \" is: \" + str(similarity));\n",
    "            if similarity > 0.5:\n",
    "                print (\"tweet line \" + str(count1 + 1) + \" and tweet line \" + str(count2 + 1) + \" are near-duplicates.\")\n",
    "            count2 += 1;\n",
    "        count2 = count1 + 2\n",
    "        count1 += 1;\n",
    "main();\n"
   ]
  },
  {
   "cell_type": "code",
   "execution_count": null,
   "metadata": {},
   "outputs": [],
   "source": []
  }
 ],
 "metadata": {
  "kernelspec": {
   "display_name": "Python 3",
   "language": "python",
   "name": "python3"
  },
  "language_info": {
   "codemirror_mode": {
    "name": "ipython",
    "version": 3
   },
   "file_extension": ".py",
   "mimetype": "text/x-python",
   "name": "python",
   "nbconvert_exporter": "python",
   "pygments_lexer": "ipython3",
   "version": "3.7.6"
  }
 },
 "nbformat": 4,
 "nbformat_minor": 4
}
