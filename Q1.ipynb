{
 "cells": [
  {
   "cell_type": "markdown",
   "metadata": {},
   "source": [
    "Rock, Paper, Scissors"
   ]
  },
  {
   "cell_type": "code",
   "execution_count": 1,
   "metadata": {},
   "outputs": [],
   "source": [
    "import random\n",
    "\n",
    "options = [\"Rock\", \"Paper\", \"Scissors\"]\n",
    "\n",
    "def main():\n",
    "    total = 0\n",
    "    count = 0  # the number of times the human won\n",
    "    rec_dict = {}  # user's choices record\n",
    "    is_quit = False\n",
    "    \n",
    "    # initialize dictionary as {'Rock': 0, 'Paper': 0, 'Scissors': 0}\n",
    "    for option in options:\n",
    "        rec_dict[option] = 0\n",
    "\n",
    "    while not is_quit:\n",
    "        human = int(input(\"Choose either Rock(1), Paper(2), Scissors(3), or Quit(4)? \"))\n",
    "\n",
    "        # check if it is a valid input\n",
    "        while human > 4 or human < 1:\n",
    "            human = int(input(\"Please enter a valid input: \"))\n",
    "\n",
    "        # quit\n",
    "        if human == 4:\n",
    "            print_final_result(total, count)\n",
    "            break\n",
    "\n",
    "        total += 1\n",
    "        computer = options_process(rec_dict)\n",
    "\n",
    "        # add user's choice to the dictionary\n",
    "        key = options[human - 1]\n",
    "        rec_dict[key] += 1\n",
    "\n",
    "        if computer == human:\n",
    "            print('This is a draw.\\n')\n",
    "            continue\n",
    "\n",
    "        if human == 1:  # Rock\n",
    "            if computer == 2:\n",
    "                print_round_result(False, computer, 'covers', human)\n",
    "            else:\n",
    "                count += 1\n",
    "                print_round_result(True, human, 'smashes', computer)\n",
    "        elif human == 2:  # Paper\n",
    "            if computer == 1:\n",
    "                count += 1\n",
    "                print_round_result(True, human, 'covers', computer)\n",
    "            else:\n",
    "                print_round_result(False, computer, 'can cut up', human)\n",
    "        else:  # Scissors\n",
    "            if computer == 1:\n",
    "                print_round_result(False, computer, 'smashes', human)\n",
    "            else:\n",
    "                count += 1\n",
    "                print_round_result(True, human, 'can cut up', computer)"
   ]
  },
  {
   "cell_type": "code",
   "execution_count": 2,
   "metadata": {},
   "outputs": [],
   "source": [
    "# help computer to make a choice based on user's biases\n",
    "def options_process(rec_dict):\n",
    "    choices = []\n",
    "    computer_choice = []\n",
    "    maximum = 0\n",
    "    \n",
    "    for r in rec_dict.keys():\n",
    "        if rec_dict[r] > maximum:\n",
    "            choices = [r]\n",
    "            maximum = rec_dict[r]\n",
    "        elif rec_dict[r] == maximum:\n",
    "            choices.append(r)\n",
    "            \n",
    "    for c in choices:\n",
    "        if c == options[0]:\n",
    "            computer_choice.append(options[1])\n",
    "        elif c == options[1]:\n",
    "            computer_choice.append(options[2])\n",
    "        else:\n",
    "            computer_choice.append(options[0])\n",
    "            \n",
    "    r = random.randint(0, len(computer_choice) - 1)\n",
    "    choice = computer_choice[r]\n",
    "    return options.index(choice) + 1"
   ]
  },
  {
   "cell_type": "code",
   "execution_count": 3,
   "metadata": {},
   "outputs": [],
   "source": [
    "# print the result of each round\n",
    "def print_round_result(is_win, win, x, lose):\n",
    "    win_choice = options[win - 1]\n",
    "    lose_choice = options[lose - 1]\n",
    "    \n",
    "    if is_win:\n",
    "        print('You win: ')\n",
    "    else:\n",
    "        print('You lose: ')\n",
    "    print(win_choice + ' ' + x + ' ' + lose_choice + ', so ' + win_choice + ' beats ' + lose_choice + '.\\n')"
   ]
  },
  {
   "cell_type": "code",
   "execution_count": 4,
   "metadata": {},
   "outputs": [],
   "source": [
    "# print the final result when user quits\n",
    "def print_final_result(total, count):\n",
    "    print('The number of games played: ' + str(total))\n",
    "    print ('The number of times you won: ' + str(count))"
   ]
  },
  {
   "cell_type": "code",
   "execution_count": 5,
   "metadata": {},
   "outputs": [
    {
     "name": "stdout",
     "output_type": "stream",
     "text": [
      "Choose either Rock(1), Paper(2), Scissors(3), or Quit(4)? 5\n",
      "Please enter a valid input: 1\n",
      "You lose: \n",
      "Paper covers Rock, so Paper beats Rock.\n",
      "\n",
      "Choose either Rock(1), Paper(2), Scissors(3), or Quit(4)? 3\n",
      "You win: \n",
      "Scissors can cut up Paper, so Scissors beats Paper.\n",
      "\n",
      "Choose either Rock(1), Paper(2), Scissors(3), or Quit(4)? 3\n",
      "You win: \n",
      "Scissors can cut up Paper, so Scissors beats Paper.\n",
      "\n",
      "Choose either Rock(1), Paper(2), Scissors(3), or Quit(4)? 3\n",
      "You lose: \n",
      "Rock smashes Scissors, so Rock beats Scissors.\n",
      "\n",
      "Choose either Rock(1), Paper(2), Scissors(3), or Quit(4)? 2\n",
      "You win: \n",
      "Paper covers Rock, so Paper beats Rock.\n",
      "\n",
      "Choose either Rock(1), Paper(2), Scissors(3), or Quit(4)? 2\n",
      "You win: \n",
      "Paper covers Rock, so Paper beats Rock.\n",
      "\n",
      "Choose either Rock(1), Paper(2), Scissors(3), or Quit(4)? 2\n",
      "You win: \n",
      "Paper covers Rock, so Paper beats Rock.\n",
      "\n",
      "Choose either Rock(1), Paper(2), Scissors(3), or Quit(4)? 2\n",
      "You lose: \n",
      "Scissors can cut up Paper, so Scissors beats Paper.\n",
      "\n",
      "Choose either Rock(1), Paper(2), Scissors(3), or Quit(4)? 4\n",
      "The number of games played: 8\n",
      "The number of times you won: 5\n"
     ]
    }
   ],
   "source": [
    "main()"
   ]
  },
  {
   "cell_type": "code",
   "execution_count": null,
   "metadata": {},
   "outputs": [],
   "source": []
  }
 ],
 "metadata": {
  "kernelspec": {
   "display_name": "Python 3",
   "language": "python",
   "name": "python3"
  },
  "language_info": {
   "codemirror_mode": {
    "name": "ipython",
    "version": 3
   },
   "file_extension": ".py",
   "mimetype": "text/x-python",
   "name": "python",
   "nbconvert_exporter": "python",
   "pygments_lexer": "ipython3",
   "version": "3.7.3"
  }
 },
 "nbformat": 4,
 "nbformat_minor": 2
}
