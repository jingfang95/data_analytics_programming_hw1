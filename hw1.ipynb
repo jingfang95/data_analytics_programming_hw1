{
 "cells": [
  {
   "cell_type": "markdown",
   "metadata": {},
   "source": [
    "### Rock, Paper, Scissors"
   ]
  },
  {
   "cell_type": "code",
   "execution_count": 25,
   "metadata": {},
   "outputs": [],
   "source": [
    "import random"
   ]
  },
  {
   "cell_type": "code",
   "execution_count": 26,
   "metadata": {},
   "outputs": [],
   "source": [
    "options = [\"Rock\", \"Paper\", \"Scissors\"]"
   ]
  },
  {
   "cell_type": "code",
   "execution_count": 27,
   "metadata": {},
   "outputs": [],
   "source": [
    "# help computer to make a choice based on user's biases\n",
    "def options_process(rec_dict):\n",
    "    choices = []\n",
    "    computer_choice = []\n",
    "    maximum = 0\n",
    "    \n",
    "    for r in rec_dict.keys():\n",
    "        if rec_dict[r] > maximum:\n",
    "            choices = [r]\n",
    "            maximum = rec_dict[r]\n",
    "        elif rec_dict[r] == maximum:\n",
    "            choices.append(r)\n",
    "            \n",
    "    for c in choices:\n",
    "        if c == options[0]:\n",
    "            computer_choice.append(options[1])\n",
    "        elif c == options[1]:\n",
    "            computer_choice.append(options[2])\n",
    "        else:\n",
    "            computer_choice.append(options[0])\n",
    "            \n",
    "    r = random.randint(0, len(computer_choice) - 1)\n",
    "    choice = computer_choice[r]\n",
    "    return options.index(choice) + 1"
   ]
  },
  {
   "cell_type": "code",
   "execution_count": 28,
   "metadata": {},
   "outputs": [],
   "source": [
    "# print the result of each round\n",
    "def print_round_result(is_win, win, x, lose):\n",
    "    win_choice = options[win - 1]\n",
    "    lose_choice = options[lose - 1]\n",
    "    \n",
    "    if is_win:\n",
    "        print('You win: ')\n",
    "    else:\n",
    "        print('You lose: ')\n",
    "    print(win_choice + ' ' + x + ' ' + lose_choice + ', so ' + win_choice + ' beats ' + lose_choice + '.\\n')"
   ]
  },
  {
   "cell_type": "code",
   "execution_count": 29,
   "metadata": {},
   "outputs": [],
   "source": [
    "# print the final result when user quits\n",
    "def print_final_result(total, count):\n",
    "    print('The number of games played: ' + str(total))\n",
    "    print ('The number of times you won: ' + str(count))"
   ]
  },
  {
   "cell_type": "code",
   "execution_count": 30,
   "metadata": {},
   "outputs": [],
   "source": [
    "def play_game():\n",
    "    total = 0\n",
    "    count = 0  # the number of times the human won\n",
    "    rec_dict = {}  # user's choices record\n",
    "    is_quit = False\n",
    "    \n",
    "    # initialize dictionary as {'Rock': 0, 'Paper': 0, 'Scissors': 0}\n",
    "    for option in options:\n",
    "        rec_dict[option] = 0\n",
    "\n",
    "    while not is_quit:\n",
    "        human = int(input(\"Choose either Rock(1), Paper(2), Scissors(3), or Quit(4)? \"))\n",
    "\n",
    "        # check if it is a valid input\n",
    "        while human > 4 or human < 1:\n",
    "            human = int(input(\"Please enter a valid input: \"))\n",
    "\n",
    "        # quit\n",
    "        if human == 4:\n",
    "            print_final_result(total, count)\n",
    "            break\n",
    "\n",
    "        total += 1\n",
    "        computer = options_process(rec_dict)\n",
    "\n",
    "        # add user's choice to the dictionary\n",
    "        key = options[human - 1]\n",
    "        rec_dict[key] += 1\n",
    "\n",
    "        if computer == human:\n",
    "            print('This is a draw.\\n')\n",
    "            continue\n",
    "\n",
    "        if human == 1:  # Rock\n",
    "            if computer == 2:\n",
    "                print_round_result(False, computer, 'covers', human)\n",
    "            else:\n",
    "                count += 1\n",
    "                print_round_result(True, human, 'smashes', computer)\n",
    "        elif human == 2:  # Paper\n",
    "            if computer == 1:\n",
    "                count += 1\n",
    "                print_round_result(True, human, 'covers', computer)\n",
    "            else:\n",
    "                print_round_result(False, computer, 'can cut up', human)\n",
    "        else:  # Scissors\n",
    "            if computer == 1:\n",
    "                print_round_result(False, computer, 'smashes', human)\n",
    "            else:\n",
    "                count += 1\n",
    "                print_round_result(True, human, 'can cut up', computer)"
   ]
  },
  {
   "cell_type": "code",
   "execution_count": 32,
   "metadata": {},
   "outputs": [
    {
     "name": "stdout",
     "output_type": "stream",
     "text": [
      "Choose either Rock(1), Paper(2), Scissors(3), or Quit(4)? 5\n",
      "Please enter a valid input: 2\n",
      "This is a draw.\n",
      "\n",
      "Choose either Rock(1), Paper(2), Scissors(3), or Quit(4)? 3\n",
      "This is a draw.\n",
      "\n",
      "Choose either Rock(1), Paper(2), Scissors(3), or Quit(4)? 3\n",
      "You lose: \n",
      "Rock smashes Scissors, so Rock beats Scissors.\n",
      "\n",
      "Choose either Rock(1), Paper(2), Scissors(3), or Quit(4)? 3\n",
      "You lose: \n",
      "Rock smashes Scissors, so Rock beats Scissors.\n",
      "\n",
      "Choose either Rock(1), Paper(2), Scissors(3), or Quit(4)? 2\n",
      "You win: \n",
      "Paper covers Rock, so Paper beats Rock.\n",
      "\n",
      "Choose either Rock(1), Paper(2), Scissors(3), or Quit(4)? 2\n",
      "You win: \n",
      "Paper covers Rock, so Paper beats Rock.\n",
      "\n",
      "Choose either Rock(1), Paper(2), Scissors(3), or Quit(4)? 2\n",
      "You lose: \n",
      "Scissors can cut up Paper, so Scissors beats Paper.\n",
      "\n",
      "Choose either Rock(1), Paper(2), Scissors(3), or Quit(4)? 1\n",
      "You win: \n",
      "Rock smashes Scissors, so Rock beats Scissors.\n",
      "\n",
      "Choose either Rock(1), Paper(2), Scissors(3), or Quit(4)? 4\n",
      "The number of games played: 8\n",
      "The number of times you won: 3\n"
     ]
    }
   ],
   "source": [
    "play_game()"
   ]
  },
  {
   "cell_type": "markdown",
   "metadata": {},
   "source": [
    "### Voters in Florida"
   ]
  },
  {
   "cell_type": "code",
   "execution_count": 1,
   "metadata": {},
   "outputs": [],
   "source": [
    "def voters_in_florida():\n",
    "    prefix = '<td>'\n",
    "    suffix = '</td>'\n",
    "    county = ''\n",
    "    republican = 0\n",
    "    democratic = 0\n",
    "    col = 6  # the number of total columns of the table\n",
    "    count = 0\n",
    "    data = []\n",
    "\n",
    "    fp = open('FloridaVoters.html', 'r')\n",
    "    line = fp.readline()\n",
    "    while line is not '':\n",
    "        line = line.strip()\n",
    "        if line[0: len(prefix)] != prefix:\n",
    "            line = fp.readline()\n",
    "            continue\n",
    "        line = line.lstrip(prefix).rstrip(suffix).replace(',', '')\n",
    "        if count % col == 0:\n",
    "            county = line\n",
    "        elif count % col == 1:\n",
    "            republican = int(line)\n",
    "        elif count % col == 2:\n",
    "            democratic = int(line)\n",
    "            data.append((county, republican, democratic))\n",
    "        line = fp.readline()\n",
    "        count += 1\n",
    "    fp.close()\n",
    "    \n",
    "    # sorted by the number of democratic voters\n",
    "    data.sort(key=lambda x: x[2])\n",
    "    for cr, r, d in data:\n",
    "        print(cr + ' ' + str(r) + ' ' + str(d))"
   ]
  },
  {
   "cell_type": "code",
   "execution_count": 2,
   "metadata": {},
   "outputs": [
    {
     "name": "stdout",
     "output_type": "stream",
     "text": [
      "LAFAYETTE 1373 2672\n",
      "GLADES 2190 3110\n",
      "LIBERTY 720 3372\n",
      "UNION 2752 3579\n",
      "GILCHRIST 5789 3652\n",
      "FRANKLIN 2234 4319\n",
      "HOLMES 5282 4434\n",
      "GULF 4234 4521\n",
      "HARDEE 4859 4702\n",
      "HAMILTON 2154 4796\n",
      "DIXIE 3314 4839\n",
      "CALHOUN 2201 5324\n",
      "WASHINGTON 7101 5687\n",
      "JEFFERSON 2636 5802\n",
      "BAKER 6963 5813\n",
      "BRADFORD 6878 6533\n",
      "TAYLOR 3950 6915\n",
      "MADISON 2992 7158\n",
      "DESOTO 4870 7181\n",
      "OKEECHOBEE 7755 7756\n",
      "HENDRY 5862 7999\n",
      "WAKULLA 7374 8889\n",
      "LEVY 11665 9509\n",
      "WALTON 25609 10013\n",
      "SUWANNEE 10745 11126\n",
      "NASSAU 32958 14013\n",
      "COLUMBIA 15790 14797\n",
      "JACKSON 9626 15706\n",
      "MONROE 20602 17614\n",
      "HIGHLANDS 27100 19997\n",
      "PUTNAM 17067 20606\n",
      "GADSDEN 4372 22161\n",
      "SUMTER 47158 22977\n",
      "FLAGLER 30047 24734\n",
      "OKALOOSA 75154 25172\n",
      "SANTA ROSA 73627 26114\n",
      "MARTIN 53800 27358\n",
      "INDIAN RIVER 47794 28204\n",
      "CITRUS 46373 30440\n",
      "BAY 57456 30733\n",
      "CLAY 76584 31285\n",
      "CHARLOTTE 54421 35602\n",
      "ST. JOHNS 88385 39531\n",
      "HERNANDO 51254 42499\n",
      "COLLIER 100167 45511\n",
      "LAKE 93604 67237\n",
      "MANATEE 96063 67926\n",
      "ESCAMBIA 90265 70180\n",
      "OSCEOLA 44594 75657\n",
      "ST. LUCIE 59626 76163\n",
      "MARION 97306 76268\n",
      "ALACHUA 47329 77996\n",
      "SARASOTA 125872 89711\n",
      "SEMINOLE 107833 91686\n",
      "LEON 54554 103140\n",
      "PASCO 125305 104324\n",
      "LEE 180718 114633\n",
      "VOLUSIA 121402 124136\n",
      "BREVARD 167129 127435\n",
      "POLK 140619 143799\n",
      "PINELLAS 223077 221968\n",
      "DUVAL 210195 229501\n",
      "ORANGE 206174 303458\n",
      "HILLSBOROUGH 257436 314265\n",
      "PALM BEACH 245452 367236\n",
      "MIAMI-DADE 362161 539367\n",
      "BROWARD 249762 566185\n",
      "Total 4377713 4637026\n"
     ]
    }
   ],
   "source": [
    "voters_in_florida()"
   ]
  },
  {
   "cell_type": "markdown",
   "metadata": {},
   "source": [
    "### Near-duplicate detection"
   ]
  },
  {
   "cell_type": "code",
   "execution_count": 3,
   "metadata": {},
   "outputs": [],
   "source": [
    "import math"
   ]
  },
  {
   "cell_type": "code",
   "execution_count": 4,
   "metadata": {},
   "outputs": [],
   "source": [
    "# get a dictionary contains all the unique 3-word phrases in a tweet\n",
    "def moving_window(tweet):\n",
    "    tweet_dict = {}\n",
    "    words = tweet.split(' ')\n",
    "    if len(words) >= 3:\n",
    "        for i in range(len(words) - 2):\n",
    "            phrase = words[i] + ' ' + words[i + 1] + ' ' + words[i + 2]\n",
    "            if phrase not in tweet_dict.keys():\n",
    "                tweet_dict[phrase] = 1\n",
    "    return tweet_dict"
   ]
  },
  {
   "cell_type": "code",
   "execution_count": 5,
   "metadata": {},
   "outputs": [],
   "source": [
    "# calculate similarity between two tweets\n",
    "def cosine(dict1, dict2):\n",
    "    matches = 0\n",
    "    for phrase in dict1:\n",
    "        if phrase in dict2.keys():\n",
    "            matches += 1\n",
    "    return matches / math.sqrt(len(dict1) * len(dict2))"
   ]
  },
  {
   "cell_type": "code",
   "execution_count": 6,
   "metadata": {},
   "outputs": [],
   "source": [
    "# read in tweets, and output near-duplicates\n",
    "def near_duplicate_detection():\n",
    "    dicts = []\n",
    "    fp = open('Santa.txt', 'r')\n",
    "    line = fp.readline()\n",
    "    while line is not '':\n",
    "        line = line.strip()\n",
    "        new_dict = moving_window(line)\n",
    "        \n",
    "        # iterating through previously-seen tweets\n",
    "        for index, d in enumerate(dicts):\n",
    "            result = cosine(d, new_dict)\n",
    "            print('Cosine similarity: ' + str(result))\n",
    "            if result > 0.5:\n",
    "                print('Tweet ' + str(index + 1) + ' and ' + str(len(dicts) + 1) + ' are near-duplicates.\\n')\n",
    "            else:\n",
    "                print('Tweet ' + str(index + 1) + ' and ' + str(len(dicts) + 1) + ' are not near-duplicates.\\n')\n",
    "        dicts.append(new_dict)\n",
    "        line = fp.readline()\n",
    "    fp.close()"
   ]
  },
  {
   "cell_type": "code",
   "execution_count": 7,
   "metadata": {},
   "outputs": [
    {
     "name": "stdout",
     "output_type": "stream",
     "text": [
      "Cosine similarity: 0.0\n",
      "Tweet 1 and 2 are not near-duplicates.\n",
      "\n",
      "Cosine similarity: 0.8838834764831844\n",
      "Tweet 1 and 3 are near-duplicates.\n",
      "\n",
      "Cosine similarity: 0.0\n",
      "Tweet 2 and 3 are not near-duplicates.\n",
      "\n",
      "Cosine similarity: 0.0\n",
      "Tweet 1 and 4 are not near-duplicates.\n",
      "\n",
      "Cosine similarity: 0.628970902033151\n",
      "Tweet 2 and 4 are near-duplicates.\n",
      "\n",
      "Cosine similarity: 0.0\n",
      "Tweet 3 and 4 are not near-duplicates.\n",
      "\n",
      "Cosine similarity: 0.0\n",
      "Tweet 1 and 5 are not near-duplicates.\n",
      "\n",
      "Cosine similarity: 0.6837634587578276\n",
      "Tweet 2 and 5 are near-duplicates.\n",
      "\n",
      "Cosine similarity: 0.0\n",
      "Tweet 3 and 5 are not near-duplicates.\n",
      "\n",
      "Cosine similarity: 0.8362420100070908\n",
      "Tweet 4 and 5 are near-duplicates.\n",
      "\n"
     ]
    }
   ],
   "source": [
    "near_duplicate_detection()"
   ]
  },
  {
   "cell_type": "markdown",
   "metadata": {},
   "source": [
    "### The Google of Quotes"
   ]
  },
  {
   "cell_type": "code",
   "execution_count": 8,
   "metadata": {},
   "outputs": [],
   "source": [
    "import re\n",
    "import math"
   ]
  },
  {
   "cell_type": "code",
   "execution_count": 9,
   "metadata": {},
   "outputs": [],
   "source": [
    "quotes = []"
   ]
  },
  {
   "cell_type": "code",
   "execution_count": 10,
   "metadata": {},
   "outputs": [],
   "source": [
    "# build a list of full quotes\n",
    "def get_full_quotes():\n",
    "    quote = ''\n",
    "    speaker = ''\n",
    "    count = 0\n",
    "    fp = open('quotes.txt', 'r', encoding='ISO-8859-1')\n",
    "    line = fp.readline()\n",
    "    while line is not '':\n",
    "        line = line.strip()\n",
    "        if count % 2 == 0:\n",
    "            quote = line\n",
    "        else:\n",
    "            speaker = line\n",
    "            quotes.append(quote + ' - ' + speaker)\n",
    "        line = fp.readline()\n",
    "        count += 1\n",
    "    fp.close()"
   ]
  },
  {
   "cell_type": "code",
   "execution_count": 11,
   "metadata": {},
   "outputs": [],
   "source": [
    "# get a list of the words in a full quote\n",
    "def get_word_list(s):\n",
    "    word_list = re.split(r'[^a-z0-9_]+', s.lower())\n",
    "    return word_list"
   ]
  },
  {
   "cell_type": "code",
   "execution_count": 12,
   "metadata": {},
   "outputs": [],
   "source": [
    "# build a postings-list dictionary\n",
    "def get_postings_list(qs):\n",
    "    postings_list = {}\n",
    "    for q in qs:\n",
    "        postings_dict = {}\n",
    "        words = get_word_list(q)\n",
    "        for word in words:\n",
    "            if word in postings_dict.keys():\n",
    "                postings_dict[word] += 1\n",
    "            else:\n",
    "                postings_dict[word] = 1\n",
    "        postings_list[q] = postings_dict\n",
    "    return postings_list"
   ]
  },
  {
   "cell_type": "code",
   "execution_count": 13,
   "metadata": {},
   "outputs": [],
   "source": [
    "# build a reverse postings-list dictionary\n",
    "def get_reverse_postings_list(ws):\n",
    "    reverse_postings_list = {}\n",
    "    for w in ws:\n",
    "        quote_dict = {}\n",
    "        postings_list = get_postings_list(quotes)\n",
    "        for q in postings_list.keys():\n",
    "            postings = postings_list[q]\n",
    "            if w in postings.keys():\n",
    "                if q in quote_dict.keys():\n",
    "                    quote_dict[q] += 1\n",
    "                else:\n",
    "                    quote_dict[q] = 1\n",
    "        reverse_postings_list[w] = quote_dict\n",
    "    return reverse_postings_list"
   ]
  },
  {
   "cell_type": "code",
   "execution_count": 14,
   "metadata": {},
   "outputs": [],
   "source": [
    "# compute the TF-IDF of a word in a full quote\n",
    "def tf_idf(w, q):\n",
    "    w_times = 0\n",
    "    q_times = 0\n",
    "    maximum = 0\n",
    "    tf = 0\n",
    "    idf = 0\n",
    "    total = len(quotes)\n",
    "    postings = get_postings_list([q])[q]\n",
    "    reverse_postings = get_reverse_postings_list([w])[w]\n",
    "    if w in postings.keys():\n",
    "        w_times = postings[w]\n",
    "    for p in postings.keys():\n",
    "        if postings[p] > maximum:\n",
    "            maximum = postings[p]\n",
    "    if maximum != 0:\n",
    "        tf = 1.0 * w_times / maximum\n",
    "    for q in reverse_postings.keys():\n",
    "        q_times += reverse_postings[q]\n",
    "    if q_times != 0:\n",
    "        idf = math.log(1.0 * total / q_times)\n",
    "    return tf * idf"
   ]
  },
  {
   "cell_type": "code",
   "execution_count": 15,
   "metadata": {},
   "outputs": [],
   "source": [
    "# input: a word\n",
    "# output: a dictionary - keys are full quotes containing that word\n",
    "#                      - values are the TF-IDF score of that word for that full quote\n",
    "def single_quote_search(w):\n",
    "    quote_dict = {}\n",
    "    for q in quotes:\n",
    "        word_list = get_word_list(q)\n",
    "        if w in word_list:\n",
    "            quote_dict[q] = tf_idf(w, q)\n",
    "    return quote_dict"
   ]
  },
  {
   "cell_type": "code",
   "execution_count": 16,
   "metadata": {},
   "outputs": [],
   "source": [
    "# input: a list of words\n",
    "# output: a dictionary - keys are full quotes containing one or more of the words in that list\n",
    "#                      - values are the sum of TF-IDF scores of the words in that list for that full quote\n",
    "def multiple_quote_search(ws):\n",
    "    multiple_quote_dict = {}\n",
    "    for w in ws:\n",
    "        quote_dict = single_quote_search(w)\n",
    "        for q in quote_dict.keys():\n",
    "            if q in multiple_quote_dict.keys():\n",
    "                multiple_quote_dict[q] += quote_dict[q]\n",
    "            else:\n",
    "                multiple_quote_dict[q] = quote_dict[q]\n",
    "    return multiple_quote_dict"
   ]
  },
  {
   "cell_type": "code",
   "execution_count": 23,
   "metadata": {},
   "outputs": [],
   "source": [
    "def google_of_quotes():\n",
    "    get_full_quotes()\n",
    "    # sample cases\n",
    "    print('Get the first two quotes in the list of full quotes: \\n\"')\n",
    "    print(quotes[0:2])\n",
    "    print()\n",
    "    print('Get a list of the words in a full quote - \"' + quotes[0] + '\": ')\n",
    "    print(get_word_list(quotes[0]))\n",
    "    print('\\nBuild a postings-list dictionary for the first two quotes: ')\n",
    "    print(get_postings_list(quotes[0:2]))\n",
    "    print('\\nBuild a reverse postings-list dictionary for a list [\\'entertainer\\']: ')\n",
    "    print(get_reverse_postings_list(['entertainer']))\n",
    "    print('\\nTF-IDF of a word \\'entertainer\\' in the Marlon Brando quote: ')\n",
    "    print(tf_idf('entertainer', 'An actor is at most a poet and at least an entertainer. - Marlon Brando'))\n",
    "    print('\\nQuote search using a single word \\'entertainer\\': ')\n",
    "    print(single_quote_search('entertainer'))\n",
    "    print('\\nQuote search using multiple words \\'entertainer\\' and \\'foundation\\': ')\n",
    "    print(multiple_quote_search(['entertainer', 'foundation']))"
   ]
  },
  {
   "cell_type": "code",
   "execution_count": 24,
   "metadata": {},
   "outputs": [
    {
     "name": "stdout",
     "output_type": "stream",
     "text": [
      "Get the first two quotes in the list of full quotes: \n",
      "\"\n",
      "['How we spend our days is, of course, how we spend our lives. - Annie Dillard', 'Two roads diverged in a wood, and I...I took the one less traveled by, and that has made all the difference. - Robert Frost']\n",
      "\n",
      "Get a list of the words in a full quote - \"How we spend our days is, of course, how we spend our lives. - Annie Dillard\": \n",
      "['how', 'we', 'spend', 'our', 'days', 'is', 'of', 'course', 'how', 'we', 'spend', 'our', 'lives', 'annie', 'dillard']\n",
      "\n",
      "Build a postings-list dictionary for the first two quotes: \n",
      "{'How we spend our days is, of course, how we spend our lives. - Annie Dillard': {'how': 2, 'we': 2, 'spend': 2, 'our': 2, 'days': 1, 'is': 1, 'of': 1, 'course': 1, 'lives': 1, 'annie': 1, 'dillard': 1}, 'Two roads diverged in a wood, and I...I took the one less traveled by, and that has made all the difference. - Robert Frost': {'two': 1, 'roads': 1, 'diverged': 1, 'in': 1, 'a': 1, 'wood': 1, 'and': 2, 'i': 2, 'took': 1, 'the': 2, 'one': 1, 'less': 1, 'traveled': 1, 'by': 1, 'that': 1, 'has': 1, 'made': 1, 'all': 1, 'difference': 1, 'robert': 1, 'frost': 1}}\n",
      "\n",
      "Build a reverse postings-list dictionary for a list ['entertainer']: \n",
      "{'entertainer': {'An actor is at most a poet and at least an entertainer. - Marlon Brando': 1}}\n",
      "\n",
      "TF-IDF of a word 'entertainer' in the Marlon Brando quote: \n",
      "4.086505655862486\n",
      "\n",
      "Quote search using a single word 'entertainer': \n",
      "{'An actor is at most a poet and at least an entertainer. - Marlon Brando': 4.086505655862486}\n",
      "\n",
      "Quote search using multiple words 'entertainer' and 'foundation': \n",
      "{'An actor is at most a poet and at least an entertainer. - Marlon Brando': 4.086505655862486, 'Humility is the foundation of all the other virtues hence, in the soul in which this virtue does not exist there cannot be any other virtue except in mere appearance. - Saint Augustine': 2.3581330076856206, 'Alexander, Caesar, Charlemagne, and myself founded empires; but what foundation did we rest the creations of our genius? Upon force. Jesus Christ founded an empire upon love; and at this hour millions of men would die for Him. - Napoleon Bonaparte': 3.537199511528431, 'If the United Nations once admits that international disputes can be settled by using force, then we will have destroyed the foundation of the organization and our best hope of establishing a world order. - Dwight Eisenhower': 2.3581330076856206}\n"
     ]
    }
   ],
   "source": [
    "google_of_quotes()"
   ]
  },
  {
   "cell_type": "code",
   "execution_count": null,
   "metadata": {},
   "outputs": [],
   "source": []
  }
 ],
 "metadata": {
  "kernelspec": {
   "display_name": "Python 3",
   "language": "python",
   "name": "python3"
  },
  "language_info": {
   "codemirror_mode": {
    "name": "ipython",
    "version": 3
   },
   "file_extension": ".py",
   "mimetype": "text/x-python",
   "name": "python",
   "nbconvert_exporter": "python",
   "pygments_lexer": "ipython3",
   "version": "3.7.3"
  }
 },
 "nbformat": 4,
 "nbformat_minor": 2
}
