{
 "cells": [
  {
   "cell_type": "markdown",
   "metadata": {},
   "source": [
    "Question 1"
   ]
  },
  {
   "cell_type": "code",
   "execution_count": 24,
   "metadata": {},
   "outputs": [],
   "source": [
    "def main():\n",
    "    c_choice='Rock'\n",
    "    h_wins=0\n",
    "    games=0\n",
    "    prob_dict={'Rock':[],'Paper':[],'Scissors':[]}\n",
    "    \n",
    "    print('The computer has picked its choice...')\n",
    "    \n",
    "    first_c=input('\\nType \"Rock\", \"Paper\", or \"Scissors\" to play or type \"Quit\" to end the game: ')\n",
    "    \n",
    "    h_choice=valid_c(first_c)\n",
    "    \n",
    "    while h_choice != 'Quit':\n",
    "        games+=1\n",
    "        if pick_winner(h_choice,c_choice)>0:\n",
    "            h_wins+=1\n",
    "            prob_dict[h_choice].append(h_choice)\n",
    "            print('\\nYou win!')\n",
    "        elif h_choice==c_choice:\n",
    "            prob_dict[h_choice].append(h_choice)\n",
    "            print(\"\\nIt's a draw!\")\n",
    "        else:\n",
    "            prob_dict[h_choice].append(h_choice)\n",
    "            print('\\nThe computer wins!')\n",
    "            \n",
    "        c_choice=c_choice_picker(prob_dict)\n",
    "        \n",
    "        #Need to report the results of the round#\n",
    "        \n",
    "        print('\\nThe computer has picked its next choice...')\n",
    "        \n",
    "        next_c=input('\\nType \"Rock\", \"Paper\", or \"Scissors\" to play or type \"Quit\" to end the game: ')\n",
    "        h_choice=valid_c(next_c)\n",
    "        \n",
    "    print('\\nResults:\\nNumber of games played:',games,'\\nNumber of games you won:',h_wins)"
   ]
  },
  {
   "cell_type": "code",
   "execution_count": 25,
   "metadata": {},
   "outputs": [],
   "source": [
    "def c_choice_picker(probs):\n",
    "    if len(probs['Rock'])>len(probs['Paper']) and len(probs['Rock'])>len(probs['Scissors']):\n",
    "        choose='Paper'\n",
    "    elif len(probs['Paper'])>len(probs['Rock']) and len(probs['Paper'])>len(probs['Scissors']):\n",
    "        choose='Scissors'\n",
    "    elif len(probs['Scissors'])>len(probs['Rock']) and len(probs['Scissors'])>len(probs['Paper']):\n",
    "        choose='Rock'\n",
    "    else:\n",
    "        if len(probs['Rock'])>len(probs['Paper']) or len(probs['Rock'])>len(probs['Scissors']):\n",
    "            choose='Paper'\n",
    "        elif len(probs['Paper'])>len(probs['Rock']) or len(probs['Paper'])>len(probs['Scissors']):\n",
    "            choose='Scissors'\n",
    "        else:\n",
    "            choose='Rock'\n",
    "        \n",
    "    return choose"
   ]
  },
  {
   "cell_type": "code",
   "execution_count": 26,
   "metadata": {},
   "outputs": [],
   "source": [
    "def pick_winner(h_choice,c_choice):\n",
    "    h_win=0\n",
    "    if beats(h_choice,c_choice) == True:\n",
    "        h_win+=1\n",
    "    else:\n",
    "        h_win=0\n",
    "    return h_win"
   ]
  },
  {
   "cell_type": "code",
   "execution_count": 27,
   "metadata": {},
   "outputs": [],
   "source": [
    "def beats(h_choice,c_choice):\n",
    "    h_win=0\n",
    "    c_win=0\n",
    "    if h_choice == 'Rock' and c_choice == 'Scissors':\n",
    "        h_win+=1\n",
    "    elif h_choice == 'Paper' and c_choice == 'Rock':\n",
    "        h_win+=1\n",
    "    elif h_choice == 'Scissors'and c_choice == 'Paper':\n",
    "        h_win+=1\n",
    "    else:\n",
    "        c_win+=1\n",
    "    \n",
    "    if h_win>0:\n",
    "        return True\n",
    "    else:\n",
    "        return False"
   ]
  },
  {
   "cell_type": "code",
   "execution_count": 28,
   "metadata": {},
   "outputs": [],
   "source": [
    "def valid_c(choice):\n",
    "    valid=['Rock','Paper','Scissors','Quit']\n",
    "    while choice not in valid:\n",
    "        print('\\nPlease enter a valid choice.')\n",
    "        choice=input('\\nType \"Rock\", \"Paper\", or \"Scissors\" to play or type \"Quit\" to end the game: ')\n",
    "        print(choice)\n",
    "        \n",
    "    return choice"
   ]
  },
  {
   "cell_type": "code",
   "execution_count": 29,
   "metadata": {},
   "outputs": [
    {
     "name": "stdout",
     "output_type": "stream",
     "text": [
      "The computer has picked its choice...\n",
      "\n",
      "Type \"Rock\", \"Paper\", or \"Scissors\" to play or type \"Quit\" to end the game: Paper\n",
      "\n",
      "You win!\n",
      "\n",
      "The computer has picked its next choice...\n",
      "\n",
      "Type \"Rock\", \"Paper\", or \"Scissors\" to play or type \"Quit\" to end the game: Rock\n",
      "\n",
      "You win!\n",
      "\n",
      "The computer has picked its next choice...\n",
      "\n",
      "Type \"Rock\", \"Paper\", or \"Scissors\" to play or type \"Quit\" to end the game: Rock\n",
      "\n",
      "The computer wins!\n",
      "\n",
      "The computer has picked its next choice...\n",
      "\n",
      "Type \"Rock\", \"Paper\", or \"Scissors\" to play or type \"Quit\" to end the game: Scissors\n",
      "\n",
      "You win!\n",
      "\n",
      "The computer has picked its next choice...\n",
      "\n",
      "Type \"Rock\", \"Paper\", or \"Scissors\" to play or type \"Quit\" to end the game: Rock\n",
      "\n",
      "The computer wins!\n",
      "\n",
      "The computer has picked its next choice...\n",
      "\n",
      "Type \"Rock\", \"Paper\", or \"Scissors\" to play or type \"Quit\" to end the game: Rock\n",
      "\n",
      "The computer wins!\n",
      "\n",
      "The computer has picked its next choice...\n",
      "\n",
      "Type \"Rock\", \"Paper\", or \"Scissors\" to play or type \"Quit\" to end the game: Paper\n",
      "\n",
      "It's a draw!\n",
      "\n",
      "The computer has picked its next choice...\n",
      "\n",
      "Type \"Rock\", \"Paper\", or \"Scissors\" to play or type \"Quit\" to end the game: alskfj\n",
      "\n",
      "Please enter a valid choice.\n",
      "\n",
      "Type \"Rock\", \"Paper\", or \"Scissors\" to play or type \"Quit\" to end the game: sdlkf\n",
      "sdlkf\n",
      "\n",
      "Please enter a valid choice.\n",
      "\n",
      "Type \"Rock\", \"Paper\", or \"Scissors\" to play or type \"Quit\" to end the game: lnisdf\n",
      "lnisdf\n",
      "\n",
      "Please enter a valid choice.\n",
      "\n",
      "Type \"Rock\", \"Paper\", or \"Scissors\" to play or type \"Quit\" to end the game: Paper\n",
      "Paper\n",
      "\n",
      "It's a draw!\n",
      "\n",
      "The computer has picked its next choice...\n",
      "\n",
      "Type \"Rock\", \"Paper\", or \"Scissors\" to play or type \"Quit\" to end the game: Quit\n",
      "\n",
      "Results:\n",
      "Number of games played: 8 \n",
      "Number of games you won: 3\n"
     ]
    }
   ],
   "source": [
    "main()"
   ]
  },
  {
   "cell_type": "code",
   "execution_count": null,
   "metadata": {},
   "outputs": [],
   "source": []
  }
 ],
 "metadata": {
  "kernelspec": {
   "display_name": "Python 3",
   "language": "python",
   "name": "python3"
  },
  "language_info": {
   "codemirror_mode": {
    "name": "ipython",
    "version": 3
   },
   "file_extension": ".py",
   "mimetype": "text/x-python",
   "name": "python",
   "nbconvert_exporter": "python",
   "pygments_lexer": "ipython3",
   "version": "3.7.6"
  }
 },
 "nbformat": 4,
 "nbformat_minor": 4
}
